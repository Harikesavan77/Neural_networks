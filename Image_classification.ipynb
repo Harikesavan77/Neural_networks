{
  "nbformat": 4,
  "nbformat_minor": 0,
  "metadata": {
    "colab": {
      "provenance": [],
      "gpuType": "T4"
    },
    "kernelspec": {
      "name": "python3",
      "display_name": "Python 3"
    },
    "language_info": {
      "name": "python"
    },
    "accelerator": "GPU"
  },
  "cells": [
    {
      "cell_type": "code",
      "execution_count": null,
      "metadata": {
        "id": "mPwAXraNmr46"
      },
      "outputs": [],
      "source": [
        "import tensorflow as tf\n",
        "import pandas as pd\n",
        "import numpy as np\n",
        "from tensorflow import keras\n",
        "import matplotlib.pyplot as plt"
      ]
    },
    {
      "cell_type": "code",
      "source": [
        "(X_train, y_train), (X_test,y_test) = tf.keras.datasets.cifar10.load_data()"
      ],
      "metadata": {
        "colab": {
          "base_uri": "https://localhost:8080/"
        },
        "id": "uFD5G8EQsRbA",
        "outputId": "08d225fe-d38a-477e-eba2-f25b6964ef91"
      },
      "execution_count": null,
      "outputs": [
        {
          "output_type": "stream",
          "name": "stdout",
          "text": [
            "Downloading data from https://www.cs.toronto.edu/~kriz/cifar-10-python.tar.gz\n",
            "170498071/170498071 [==============================] - 4s 0us/step\n"
          ]
        }
      ]
    },
    {
      "cell_type": "code",
      "source": [
        "classes = [\"airplane\",\"automobile\",\"bird\",\"cat\",\"deer\",\"dog\",\"frog\",\"horse\",\"ship\",\"truck\"]"
      ],
      "metadata": {
        "id": "MeMlN95CsRuM"
      },
      "execution_count": null,
      "outputs": []
    },
    {
      "cell_type": "code",
      "source": [
        "X_train.shape"
      ],
      "metadata": {
        "colab": {
          "base_uri": "https://localhost:8080/"
        },
        "id": "gp5TNgxgsR4_",
        "outputId": "33f29913-52b8-4795-c436-5e689c50ab0b"
      },
      "execution_count": null,
      "outputs": [
        {
          "output_type": "execute_result",
          "data": {
            "text/plain": [
              "(50000, 32, 32, 3)"
            ]
          },
          "metadata": {},
          "execution_count": 6
        }
      ]
    },
    {
      "cell_type": "code",
      "source": [
        "classes[y_train[9][0]]"
      ],
      "metadata": {
        "colab": {
          "base_uri": "https://localhost:8080/",
          "height": 36
        },
        "id": "1WuE2IUksSFL",
        "outputId": "a2b7d4fe-55c7-4391-eabd-99a39028e593"
      },
      "execution_count": null,
      "outputs": [
        {
          "output_type": "execute_result",
          "data": {
            "text/plain": [
              "'cat'"
            ],
            "application/vnd.google.colaboratory.intrinsic+json": {
              "type": "string"
            }
          },
          "metadata": {},
          "execution_count": 11
        }
      ]
    },
    {
      "cell_type": "code",
      "source": [
        "def show(i):\n",
        "  plt.figure(figsize=(10,2))\n",
        "  plt.imshow(X_train[i])"
      ],
      "metadata": {
        "id": "5Jz-gjX_sSRN"
      },
      "execution_count": null,
      "outputs": []
    },
    {
      "cell_type": "code",
      "source": [
        "show(2)"
      ],
      "metadata": {
        "colab": {
          "base_uri": "https://localhost:8080/",
          "height": 217
        },
        "id": "ogdD42JEsvHu",
        "outputId": "0e5091a1-54c3-4717-9d50-806573eb8f6f"
      },
      "execution_count": null,
      "outputs": [
        {
          "output_type": "display_data",
          "data": {
            "text/plain": [
              "<Figure size 1000x200 with 1 Axes>"
            ],
            "image/png": "[encoded data removed]"
          },
          "metadata": {}
        }
      ]
    },
    {
      "cell_type": "code",
      "source": [
        "X_train_scaled = X_train / 255\n",
        "X_test_scaled = X_test / 255"
      ],
      "metadata": {
        "id": "wGzYjvWLsvXs"
      },
      "execution_count": null,
      "outputs": []
    },
    {
      "cell_type": "code",
      "source": [
        "X_train_scaled[0]"
      ],
      "metadata": {
        "colab": {
          "base_uri": "https://localhost:8080/"
        },
        "id": "ZNzP4Nq2svio",
        "outputId": "36b134e4-659c-47f8-af13-1f3eaaa4c240"
      },
      "execution_count": null,
      "outputs": [
        {
          "output_type": "execute_result",
          "data": {
            "text/plain": [
              "array([[[0.23137255, 0.24313725, 0.24705882],\n",
              "        [0.16862745, 0.18039216, 0.17647059],\n",
              "        [0.19607843, 0.18823529, 0.16862745],\n",
              "        ...,\n",
              "        [0.61960784, 0.51764706, 0.42352941],\n",
              "        [0.59607843, 0.49019608, 0.4       ],\n",
              "        [0.58039216, 0.48627451, 0.40392157]],\n",
              "\n",
              "       [[0.0627451 , 0.07843137, 0.07843137],\n",
              "        [0.        , 0.        , 0.        ],\n",
              "        [0.07058824, 0.03137255, 0.        ],\n",
              "        ...,\n",
              "        [0.48235294, 0.34509804, 0.21568627],\n",
              "        [0.46666667, 0.3254902 , 0.19607843],\n",
              "        [0.47843137, 0.34117647, 0.22352941]],\n",
              "\n",
              "       [[0.09803922, 0.09411765, 0.08235294],\n",
              "        [0.0627451 , 0.02745098, 0.        ],\n",
              "        [0.19215686, 0.10588235, 0.03137255],\n",
              "        ...,\n",
              "        [0.4627451 , 0.32941176, 0.19607843],\n",
              "        [0.47058824, 0.32941176, 0.19607843],\n",
              "        [0.42745098, 0.28627451, 0.16470588]],\n",
              "\n",
              "       ...,\n",
              "\n",
              "       [[0.81568627, 0.66666667, 0.37647059],\n",
              "        [0.78823529, 0.6       , 0.13333333],\n",
              "        [0.77647059, 0.63137255, 0.10196078],\n",
              "        ...,\n",
              "        [0.62745098, 0.52156863, 0.2745098 ],\n",
              "        [0.21960784, 0.12156863, 0.02745098],\n",
              "        [0.20784314, 0.13333333, 0.07843137]],\n",
              "\n",
              "       [[0.70588235, 0.54509804, 0.37647059],\n",
              "        [0.67843137, 0.48235294, 0.16470588],\n",
              "        [0.72941176, 0.56470588, 0.11764706],\n",
              "        ...,\n",
              "        [0.72156863, 0.58039216, 0.36862745],\n",
              "        [0.38039216, 0.24313725, 0.13333333],\n",
              "        [0.3254902 , 0.20784314, 0.13333333]],\n",
              "\n",
              "       [[0.69411765, 0.56470588, 0.45490196],\n",
              "        [0.65882353, 0.50588235, 0.36862745],\n",
              "        [0.70196078, 0.55686275, 0.34117647],\n",
              "        ...,\n",
              "        [0.84705882, 0.72156863, 0.54901961],\n",
              "        [0.59215686, 0.4627451 , 0.32941176],\n",
              "        [0.48235294, 0.36078431, 0.28235294]]])"
            ]
          },
          "metadata": {},
          "execution_count": 21
        }
      ]
    },
    {
      "cell_type": "code",
      "source": [
        "y_train_categorical = keras.utils.to_categorical(y_train,num_classes=10,dtype='float32')\n",
        "y_test_categorical = keras.utils.to_categorical(y_test,num_classes=10,dtype='float32')"
      ],
      "metadata": {
        "id": "bwpAsgqksvtF"
      },
      "execution_count": null,
      "outputs": []
    },
    {
      "cell_type": "code",
      "source": [
        "y_train_categorical[:5]"
      ],
      "metadata": {
        "colab": {
          "base_uri": "https://localhost:8080/"
        },
        "id": "D-iaKMDPsv24",
        "outputId": "86d9f24e-16cf-437b-b4eb-dab21d1135cd"
      },
      "execution_count": null,
      "outputs": [
        {
          "output_type": "execute_result",
          "data": {
            "text/plain": [
              "array([[0., 0., 0., 0., 0., 0., 1., 0., 0., 0.],\n",
              "       [0., 0., 0., 0., 0., 0., 0., 0., 0., 1.],\n",
              "       [0., 0., 0., 0., 0., 0., 0., 0., 0., 1.],\n",
              "       [0., 0., 0., 0., 1., 0., 0., 0., 0., 0.],\n",
              "       [0., 1., 0., 0., 0., 0., 0., 0., 0., 0.]], dtype=float32)"
            ]
          },
          "metadata": {},
          "execution_count": 23
        }
      ]
    },
    {
      "cell_type": "code",
      "source": [
        "model = keras.Sequential([\n",
        "    keras.layers.Flatten(input_shape=(32,32,3)),\n",
        "    keras.layers.Dense(3000,activation='relu'),\n",
        "    keras.layers.Dense(1500,activation='relu'),\n",
        "    keras.layers.Dense(10,activation='sigmoid')\n",
        "])\n",
        "\n",
        "model.compile(optimizer='SGD',\n",
        "              loss='categorical_crossentropy',\n",
        "              metrics=['accuracy'])\n",
        "\n",
        "model.fit(X_train_scaled,y_train_categorical,epochs=75)"
      ],
      "metadata": {
        "colab": {
          "base_uri": "https://localhost:8080/"
        },
        "id": "ZxDHqGUVswA-",
        "outputId": "aaf49fab-686f-4023-f608-07f5b3280421"
      },
      "execution_count": null,
      "outputs": [
        {
          "output_type": "stream",
          "name": "stdout",
          "text": [
            "Epoch 1/75\n",
            "1563/1563 [==============================] - 12s 5ms/step - loss: 1.8111 - accuracy: 0.3562\n",
            "Epoch 2/75\n",
            "1563/1563 [==============================] - 8s 5ms/step - loss: 1.6225 - accuracy: 0.4290\n",
            "Epoch 3/75\n",
            "1563/1563 [==============================] - 8s 5ms/step - loss: 1.5418 - accuracy: 0.4564\n",
            "Epoch 4/75\n",
            "1563/1563 [==============================] - 8s 5ms/step - loss: 1.4793 - accuracy: 0.4797\n",
            "Epoch 5/75\n",
            "1563/1563 [==============================] - 8s 5ms/step - loss: 1.4311 - accuracy: 0.4975\n",
            "Epoch 6/75\n",
            "1563/1563 [==============================] - 8s 5ms/step - loss: 1.3888 - accuracy: 0.5127\n",
            "Epoch 7/75\n",
            "1563/1563 [==============================] - 8s 5ms/step - loss: 1.3490 - accuracy: 0.5271\n",
            "Epoch 8/75\n",
            "1563/1563 [==============================] - 8s 5ms/step - loss: 1.3167 - accuracy: 0.5393\n",
            "Epoch 9/75\n",
            "1563/1563 [==============================] - 8s 5ms/step - loss: 1.2825 - accuracy: 0.5512\n",
            "Epoch 10/75\n",
            "1563/1563 [==============================] - 8s 5ms/step - loss: 1.2512 - accuracy: 0.5621\n",
            "Epoch 11/75\n",
            "1563/1563 [==============================] - 8s 5ms/step - loss: 1.2228 - accuracy: 0.5716\n",
            "Epoch 12/75\n",
            "1563/1563 [==============================] - 9s 6ms/step - loss: 1.1949 - accuracy: 0.5802\n",
            "Epoch 13/75\n",
            "1563/1563 [==============================] - 8s 5ms/step - loss: 1.1633 - accuracy: 0.5929\n",
            "Epoch 14/75\n",
            "1563/1563 [==============================] - 8s 5ms/step - loss: 1.1352 - accuracy: 0.6034\n",
            "Epoch 15/75\n",
            "1563/1563 [==============================] - 8s 5ms/step - loss: 1.1099 - accuracy: 0.6119\n",
            "Epoch 16/75\n",
            "1563/1563 [==============================] - 8s 5ms/step - loss: 1.0818 - accuracy: 0.6214\n",
            "Epoch 17/75\n",
            "1563/1563 [==============================] - 8s 5ms/step - loss: 1.0565 - accuracy: 0.6326\n",
            "Epoch 18/75\n",
            "1563/1563 [==============================] - 8s 5ms/step - loss: 1.0297 - accuracy: 0.6425\n",
            "Epoch 19/75\n",
            "1563/1563 [==============================] - 8s 5ms/step - loss: 1.0045 - accuracy: 0.6499\n",
            "Epoch 20/75\n",
            "1563/1563 [==============================] - 8s 5ms/step - loss: 0.9778 - accuracy: 0.6607\n",
            "Epoch 21/75\n",
            "1563/1563 [==============================] - 8s 5ms/step - loss: 0.9489 - accuracy: 0.6724\n",
            "Epoch 22/75\n",
            "1563/1563 [==============================] - 8s 5ms/step - loss: 0.9274 - accuracy: 0.6796\n",
            "Epoch 23/75\n",
            "1563/1563 [==============================] - 8s 5ms/step - loss: 0.8968 - accuracy: 0.6924\n",
            "Epoch 24/75\n",
            "1563/1563 [==============================] - 8s 5ms/step - loss: 0.8752 - accuracy: 0.6989\n",
            "Epoch 25/75\n",
            "1563/1563 [==============================] - 8s 5ms/step - loss: 0.8462 - accuracy: 0.7113\n",
            "Epoch 26/75\n",
            "1563/1563 [==============================] - 8s 5ms/step - loss: 0.8228 - accuracy: 0.7163\n",
            "Epoch 27/75\n",
            "1563/1563 [==============================] - 8s 5ms/step - loss: 0.7960 - accuracy: 0.7253\n",
            "Epoch 28/75\n",
            "1563/1563 [==============================] - 9s 6ms/step - loss: 0.7693 - accuracy: 0.7368\n",
            "Epoch 29/75\n",
            "1563/1563 [==============================] - 8s 5ms/step - loss: 0.7424 - accuracy: 0.7464\n",
            "Epoch 30/75\n",
            "1563/1563 [==============================] - 8s 5ms/step - loss: 0.7189 - accuracy: 0.7542\n",
            "Epoch 31/75\n",
            "1563/1563 [==============================] - 8s 5ms/step - loss: 0.6919 - accuracy: 0.7649\n",
            "Epoch 32/75\n",
            "1563/1563 [==============================] - 8s 5ms/step - loss: 0.6680 - accuracy: 0.7737\n",
            "Epoch 33/75\n",
            "1563/1563 [==============================] - 8s 5ms/step - loss: 0.6431 - accuracy: 0.7843\n",
            "Epoch 34/75\n",
            "1563/1563 [==============================] - 8s 5ms/step - loss: 0.6235 - accuracy: 0.7889\n",
            "Epoch 35/75\n",
            "1563/1563 [==============================] - 8s 5ms/step - loss: 0.5956 - accuracy: 0.8016\n",
            "Epoch 36/75\n",
            "1563/1563 [==============================] - 8s 5ms/step - loss: 0.5662 - accuracy: 0.8122\n",
            "Epoch 37/75\n",
            "1563/1563 [==============================] - 8s 5ms/step - loss: 0.5448 - accuracy: 0.8221\n",
            "Epoch 38/75\n",
            "1563/1563 [==============================] - 8s 5ms/step - loss: 0.5252 - accuracy: 0.8268\n",
            "Epoch 39/75\n",
            "1563/1563 [==============================] - 8s 5ms/step - loss: 0.4985 - accuracy: 0.8371\n",
            "Epoch 40/75\n",
            "1563/1563 [==============================] - 8s 5ms/step - loss: 0.4767 - accuracy: 0.8470\n",
            "Epoch 41/75\n",
            "1563/1563 [==============================] - 8s 5ms/step - loss: 0.4544 - accuracy: 0.8537\n",
            "Epoch 42/75\n",
            "1563/1563 [==============================] - 8s 5ms/step - loss: 0.4328 - accuracy: 0.8608\n",
            "Epoch 43/75\n",
            "1563/1563 [==============================] - 8s 5ms/step - loss: 0.4108 - accuracy: 0.8687\n",
            "Epoch 44/75\n",
            "1563/1563 [==============================] - 8s 5ms/step - loss: 0.3925 - accuracy: 0.8749\n",
            "Epoch 45/75\n",
            "1563/1563 [==============================] - 8s 5ms/step - loss: 0.3682 - accuracy: 0.8851\n",
            "Epoch 46/75\n",
            "1563/1563 [==============================] - 8s 5ms/step - loss: 0.3504 - accuracy: 0.8928\n",
            "Epoch 47/75\n",
            "1563/1563 [==============================] - 8s 5ms/step - loss: 0.3335 - accuracy: 0.8984\n",
            "Epoch 48/75\n",
            "1563/1563 [==============================] - 8s 5ms/step - loss: 0.3123 - accuracy: 0.9050\n",
            "Epoch 49/75\n",
            "1563/1563 [==============================] - 8s 5ms/step - loss: 0.3001 - accuracy: 0.9112\n",
            "Epoch 50/75\n",
            "1563/1563 [==============================] - 8s 5ms/step - loss: 0.2784 - accuracy: 0.9176\n",
            "Epoch 51/75\n",
            "1563/1563 [==============================] - 8s 5ms/step - loss: 0.2654 - accuracy: 0.9229\n",
            "Epoch 52/75\n",
            "1563/1563 [==============================] - 8s 5ms/step - loss: 0.2439 - accuracy: 0.9298\n",
            "Epoch 53/75\n",
            "1563/1563 [==============================] - 8s 5ms/step - loss: 0.2296 - accuracy: 0.9355\n",
            "Epoch 54/75\n",
            "1563/1563 [==============================] - 8s 5ms/step - loss: 0.2202 - accuracy: 0.9376\n",
            "Epoch 55/75\n",
            "1563/1563 [==============================] - 8s 5ms/step - loss: 0.2023 - accuracy: 0.9459\n",
            "Epoch 56/75\n",
            "1563/1563 [==============================] - 8s 5ms/step - loss: 0.1923 - accuracy: 0.9499\n",
            "Epoch 57/75\n",
            "1563/1563 [==============================] - 8s 5ms/step - loss: 0.1759 - accuracy: 0.9542\n",
            "Epoch 58/75\n",
            "1563/1563 [==============================] - 8s 5ms/step - loss: 0.1631 - accuracy: 0.9596\n",
            "Epoch 59/75\n",
            "1563/1563 [==============================] - 8s 5ms/step - loss: 0.1536 - accuracy: 0.9623\n",
            "Epoch 60/75\n",
            "1563/1563 [==============================] - 8s 5ms/step - loss: 0.1393 - accuracy: 0.9662\n",
            "Epoch 61/75\n",
            "1563/1563 [==============================] - 8s 5ms/step - loss: 0.1330 - accuracy: 0.9692\n",
            "Epoch 62/75\n",
            "1563/1563 [==============================] - 8s 5ms/step - loss: 0.1268 - accuracy: 0.9711\n",
            "Epoch 63/75\n",
            "1563/1563 [==============================] - 8s 5ms/step - loss: 0.1160 - accuracy: 0.9740\n",
            "Epoch 64/75\n",
            "1563/1563 [==============================] - 8s 5ms/step - loss: 0.1060 - accuracy: 0.9771\n",
            "Epoch 65/75\n",
            "1563/1563 [==============================] - 8s 5ms/step - loss: 0.1036 - accuracy: 0.9775\n",
            "Epoch 66/75\n",
            "1563/1563 [==============================] - 8s 5ms/step - loss: 0.0890 - accuracy: 0.9825\n",
            "Epoch 67/75\n",
            "1563/1563 [==============================] - 8s 5ms/step - loss: 0.0861 - accuracy: 0.9834\n",
            "Epoch 68/75\n",
            "1563/1563 [==============================] - 8s 5ms/step - loss: 0.0772 - accuracy: 0.9861\n",
            "Epoch 69/75\n",
            "1563/1563 [==============================] - 8s 5ms/step - loss: 0.0715 - accuracy: 0.9867\n",
            "Epoch 70/75\n",
            "1563/1563 [==============================] - 8s 5ms/step - loss: 0.0652 - accuracy: 0.9887\n",
            "Epoch 71/75\n",
            "1563/1563 [==============================] - 8s 5ms/step - loss: 0.0621 - accuracy: 0.9898\n",
            "Epoch 72/75\n",
            "1563/1563 [==============================] - 8s 5ms/step - loss: 0.0546 - accuracy: 0.9921\n",
            "Epoch 73/75\n",
            "1563/1563 [==============================] - 8s 5ms/step - loss: 0.0540 - accuracy: 0.9911\n",
            "Epoch 74/75\n",
            "1563/1563 [==============================] - 9s 6ms/step - loss: 0.0459 - accuracy: 0.9940\n",
            "Epoch 75/75\n",
            "1563/1563 [==============================] - 8s 5ms/step - loss: 0.0426 - accuracy: 0.9943\n"
          ]
        },
        {
          "output_type": "execute_result",
          "data": {
            "text/plain": [
              "<keras.src.callbacks.History at 0x7a18a7dcad40>"
            ]
          },
          "metadata": {},
          "execution_count": 25
        }
      ]
    },
    {
      "cell_type": "code",
      "source": [
        "np.argmax(model.predict(X_test_scaled)[5])"
      ],
      "metadata": {
        "colab": {
          "base_uri": "https://localhost:8080/"
        },
        "id": "46fOLKAlu6Ca",
        "outputId": "1e2304b5-23ef-4dda-b248-0b1461e51b87"
      },
      "execution_count": null,
      "outputs": [
        {
          "output_type": "stream",
          "name": "stdout",
          "text": [
            "313/313 [==============================] - 1s 2ms/step\n"
          ]
        },
        {
          "output_type": "execute_result",
          "data": {
            "text/plain": [
              "6"
            ]
          },
          "metadata": {},
          "execution_count": 27
        }
      ]
    },
    {
      "cell_type": "code",
      "source": [
        "classes[np.argmax(model.predict(X_test_scaled)[5])]"
      ],
      "metadata": {
        "colab": {
          "base_uri": "https://localhost:8080/",
          "height": 55
        },
        "id": "UtY8cyvRzsqP",
        "outputId": "221ce9b7-264e-4825-c5fc-0a4b0eb624bb"
      },
      "execution_count": null,
      "outputs": [
        {
          "output_type": "stream",
          "name": "stdout",
          "text": [
            "313/313 [==============================] - 1s 2ms/step\n"
          ]
        },
        {
          "output_type": "execute_result",
          "data": {
            "text/plain": [
              "'frog'"
            ],
            "application/vnd.google.colaboratory.intrinsic+json": {
              "type": "string"
            }
          },
          "metadata": {},
          "execution_count": 32
        }
      ]
    },
    {
      "cell_type": "code",
      "source": [
        "classes[y_test[5][0]]"
      ],
      "metadata": {
        "colab": {
          "base_uri": "https://localhost:8080/",
          "height": 36
        },
        "id": "5LAVgGomu6Q2",
        "outputId": "a3f35d29-11c0-4e34-c67a-c4609a73f9e7"
      },
      "execution_count": null,
      "outputs": [
        {
          "output_type": "execute_result",
          "data": {
            "text/plain": [
              "'frog'"
            ],
            "application/vnd.google.colaboratory.intrinsic+json": {
              "type": "string"
            }
          },
          "metadata": {},
          "execution_count": 31
        }
      ]
    },
    {
      "cell_type": "code",
      "source": [
        "def get_model():\n",
        "    model = keras.Sequential([\n",
        "            keras.layers.Flatten(input_shape=(32,32,3)),\n",
        "            keras.layers.Dense(3000, activation='relu'),\n",
        "            keras.layers.Dense(1000, activation='relu'),\n",
        "            keras.layers.Dense(10, activation='sigmoid')\n",
        "        ])\n",
        "\n",
        "    model.compile(optimizer='SGD',\n",
        "                  loss='categorical_crossentropy',\n",
        "                  metrics=['accuracy'])\n",
        "    return model"
      ],
      "metadata": {
        "id": "IwuIvNFQu6cv"
      },
      "execution_count": null,
      "outputs": []
    },
    {
      "cell_type": "code",
      "source": [
        "%%timeit -n1 -r1\n",
        "with tf.device('/GPU:0'):\n",
        "    cpu_model = get_model()\n",
        "    cpu_model.fit(X_train_scaled, y_train_categorical, epochs=1)"
      ],
      "metadata": {
        "colab": {
          "base_uri": "https://localhost:8080/"
        },
        "id": "ibCI-vqIu6zk",
        "outputId": "52b0df35-b49b-4e26-e8ec-b46b9584e504"
      },
      "execution_count": null,
      "outputs": [
        {
          "output_type": "stream",
          "name": "stdout",
          "text": [
            "1563/1563 [==============================] - 9s 5ms/step - loss: 1.8134 - accuracy: 0.3532\n",
            "10.4 s ± 0 ns per loop (mean ± std. dev. of 1 run, 1 loop each)\n"
          ]
        }
      ]
    },
    {
      "cell_type": "code",
      "source": [
        "%%timeit -n1 -r1\n",
        "with tf.device('/cPU:0'):\n",
        "    cpu_model = get_model()\n",
        "    cpu_model.fit(X_train_scaled, y_train_categorical, epochs=1)"
      ],
      "metadata": {
        "colab": {
          "base_uri": "https://localhost:8080/"
        },
        "id": "LjPHJTAPu694",
        "outputId": "21f8d24a-b4d8-4626-d56d-f917325f34f1"
      },
      "execution_count": null,
      "outputs": [
        {
          "output_type": "stream",
          "name": "stdout",
          "text": [
            "1563/1563 [==============================] - 116s 73ms/step - loss: 1.8134 - accuracy: 0.3540\n",
            "2min 24s ± 0 ns per loop (mean ± std. dev. of 1 run, 1 loop each)\n"
          ]
        }
      ]
    },
    {
      "cell_type": "code",
      "source": [
        "import tensorflow as tf\n",
        "from tensorflow import keras\n",
        "import numpy as np\n",
        "import matplotlib.pyplot as plt\n",
        "\n",
        "print(tf.__version__)\n"
      ],
      "metadata": {
        "colab": {
          "base_uri": "https://localhost:8080/"
        },
        "id": "XII6OpYGu7n8",
        "outputId": "7881127a-6145-4d5a-d9d4-cf0f00c38ca0"
      },
      "execution_count": null,
      "outputs": [
        {
          "output_type": "stream",
          "name": "stdout",
          "text": [
            "2.14.0\n"
          ]
        }
      ]
    },
    {
      "cell_type": "code",
      "source": [
        "fashion_mnist = keras.datasets.fashion_mnist\n",
        "\n",
        "(X_train, y_train), (X_test, y_test) = fashion_mnist.load_data()"
      ],
      "metadata": {
        "id": "1WAeJC0A6hPG"
      },
      "execution_count": null,
      "outputs": []
    },
    {
      "cell_type": "code",
      "source": [
        "X_train.shape"
      ],
      "metadata": {
        "colab": {
          "base_uri": "https://localhost:8080/"
        },
        "id": "dG9c-BZP6hcV",
        "outputId": "ad03652f-b6ab-45c8-dc36-835d15db8768"
      },
      "execution_count": null,
      "outputs": [
        {
          "output_type": "execute_result",
          "data": {
            "text/plain": [
              "(60000, 28, 28)"
            ]
          },
          "metadata": {},
          "execution_count": 78
        }
      ]
    },
    {
      "cell_type": "code",
      "source": [
        "y_test[0]"
      ],
      "metadata": {
        "colab": {
          "base_uri": "https://localhost:8080/"
        },
        "id": "c13_F5Ld6hqK",
        "outputId": "f0fb612c-4b29-4537-d428-ce9db8b8e4f4"
      },
      "execution_count": null,
      "outputs": [
        {
          "output_type": "execute_result",
          "data": {
            "text/plain": [
              "9"
            ]
          },
          "metadata": {},
          "execution_count": 79
        }
      ]
    },
    {
      "cell_type": "code",
      "source": [
        "class_names = ['T-shirt/top', 'Trouser', 'Pullover', 'Dress', 'Coat',\n",
        "               'Sandal', 'Shirt', 'Sneaker', 'Bag', 'Ankle boot']"
      ],
      "metadata": {
        "id": "uypMLzua6h2z"
      },
      "execution_count": null,
      "outputs": []
    },
    {
      "cell_type": "code",
      "source": [
        "plt.imshow(X_train[0])"
      ],
      "metadata": {
        "colab": {
          "base_uri": "https://localhost:8080/",
          "height": 448
        },
        "id": "2FFRRQx-6iCw",
        "outputId": "887ba0ed-802f-4a8c-ac5d-5373d27b0486"
      },
      "execution_count": null,
      "outputs": [
        {
          "output_type": "execute_result",
          "data": {
            "text/plain": [
              "<matplotlib.image.AxesImage at 0x7a6af0656710>"
            ]
          },
          "metadata": {},
          "execution_count": 82
        },
        {
          "output_type": "display_data",
          "data": {
            "text/plain": [
              "<Figure size 640x480 with 1 Axes>"
            ],
            "image/png": "[encoded data removed]"
          },
          "metadata": {}
        }
      ]
    },
    {
      "cell_type": "code",
      "source": [
        "y_train[3]"
      ],
      "metadata": {
        "colab": {
          "base_uri": "https://localhost:8080/"
        },
        "id": "0i-mjBdi6iNw",
        "outputId": "f63bbef0-f530-4eec-fcdd-1360d85291cd"
      },
      "execution_count": null,
      "outputs": [
        {
          "output_type": "execute_result",
          "data": {
            "text/plain": [
              "3"
            ]
          },
          "metadata": {},
          "execution_count": 83
        }
      ]
    },
    {
      "cell_type": "code",
      "source": [
        "class_names[y_train[3]]"
      ],
      "metadata": {
        "colab": {
          "base_uri": "https://localhost:8080/",
          "height": 36
        },
        "id": "jUkIutvP8UqE",
        "outputId": "7f86411b-3729-44d2-c293-8d8f47250c16"
      },
      "execution_count": null,
      "outputs": [
        {
          "output_type": "execute_result",
          "data": {
            "text/plain": [
              "'Dress'"
            ],
            "application/vnd.google.colaboratory.intrinsic+json": {
              "type": "string"
            }
          },
          "metadata": {},
          "execution_count": 84
        }
      ]
    },
    {
      "cell_type": "code",
      "source": [
        "y_train[4]"
      ],
      "metadata": {
        "colab": {
          "base_uri": "https://localhost:8080/"
        },
        "id": "VnIbYqv98Uyi",
        "outputId": "b73a1307-b759-4d2f-ff17-5a2b47deecaa"
      },
      "execution_count": null,
      "outputs": [
        {
          "output_type": "execute_result",
          "data": {
            "text/plain": [
              "0"
            ]
          },
          "metadata": {},
          "execution_count": 85
        }
      ]
    },
    {
      "cell_type": "code",
      "source": [
        "X_train_scaled = X_train / 255\n",
        "X_test_scaled = X_test / 255"
      ],
      "metadata": {
        "id": "L4paNCSg8U60"
      },
      "execution_count": null,
      "outputs": []
    },
    {
      "cell_type": "code",
      "source": [
        "y_train_category = keras.utils.to_categorical(y_train,num_classes=10,dtype='float32')\n",
        "y_test_category = keras.utils.to_categorical(y_test,num_classes=10,dtype='float32')"
      ],
      "metadata": {
        "id": "TRdU0FM68VDo"
      },
      "execution_count": null,
      "outputs": []
    },
    {
      "cell_type": "code",
      "source": [
        "y_train_category[3]"
      ],
      "metadata": {
        "colab": {
          "base_uri": "https://localhost:8080/"
        },
        "id": "SR_DYqy88VLu",
        "outputId": "6beb0a06-d04c-4ec3-af53-1c93636b848f"
      },
      "execution_count": null,
      "outputs": [
        {
          "output_type": "execute_result",
          "data": {
            "text/plain": [
              "array([0., 0., 0., 1., 0., 0., 0., 0., 0., 0.], dtype=float32)"
            ]
          },
          "metadata": {},
          "execution_count": 63
        }
      ]
    },
    {
      "cell_type": "code",
      "source": [
        "28*28"
      ],
      "metadata": {
        "colab": {
          "base_uri": "https://localhost:8080/"
        },
        "id": "wumPJl8Q-u1e",
        "outputId": "3c950053-1866-4263-8140-730d8f8d9482"
      },
      "execution_count": null,
      "outputs": [
        {
          "output_type": "execute_result",
          "data": {
            "text/plain": [
              "784"
            ]
          },
          "metadata": {},
          "execution_count": 35
        }
      ]
    },
    {
      "cell_type": "code",
      "source": [
        "model_1 = keras.Sequential([\n",
        "    keras.layers.Flatten(input_shape=(28,28)),\n",
        "    keras.layers.Dense(750,activation='relu'),\n",
        "    keras.layers.Dense(100,activation='relu'),\n",
        "    keras.layers.Dense(10,activation='sigmoid')\n",
        "])\n",
        "\n",
        "model_1.compile(optimizer='adam',\n",
        "              loss='categorical_crossentropy',\n",
        "              metrics=['accuracy'])\n",
        "\n",
        "model_1.fit(X_train_scaled,y_train_category,epochs=50)"
      ],
      "metadata": {
        "colab": {
          "base_uri": "https://localhost:8080/"
        },
        "id": "NzkO12C9B7MW",
        "outputId": "a3e2ffca-14af-4719-81ec-25bc4f5b98bc"
      },
      "execution_count": null,
      "outputs": [
        {
          "output_type": "stream",
          "name": "stdout",
          "text": [
            "Epoch 1/50\n",
            "1875/1875 [==============================] - 9s 4ms/step - loss: 0.4750 - accuracy: 0.8280\n",
            "Epoch 2/50\n",
            "1875/1875 [==============================] - 7s 4ms/step - loss: 0.3558 - accuracy: 0.8691\n",
            "Epoch 3/50\n",
            "1875/1875 [==============================] - 8s 4ms/step - loss: 0.3194 - accuracy: 0.8823\n",
            "Epoch 4/50\n",
            "1875/1875 [==============================] - 7s 4ms/step - loss: 0.2977 - accuracy: 0.8899\n",
            "Epoch 5/50\n",
            "1875/1875 [==============================] - 7s 4ms/step - loss: 0.2807 - accuracy: 0.8953\n",
            "Epoch 6/50\n",
            "1875/1875 [==============================] - 8s 4ms/step - loss: 0.2630 - accuracy: 0.9004\n",
            "Epoch 7/50\n",
            "1875/1875 [==============================] - 7s 4ms/step - loss: 0.2523 - accuracy: 0.9048\n",
            "Epoch 8/50\n",
            "1875/1875 [==============================] - 8s 4ms/step - loss: 0.2397 - accuracy: 0.9087\n",
            "Epoch 9/50\n",
            "1875/1875 [==============================] - 8s 4ms/step - loss: 0.2304 - accuracy: 0.9120\n",
            "Epoch 10/50\n",
            "1875/1875 [==============================] - 7s 4ms/step - loss: 0.2206 - accuracy: 0.9161\n",
            "Epoch 11/50\n",
            "1875/1875 [==============================] - 8s 4ms/step - loss: 0.2113 - accuracy: 0.9183\n",
            "Epoch 12/50\n",
            "1875/1875 [==============================] - 7s 4ms/step - loss: 0.2045 - accuracy: 0.9216\n",
            "Epoch 13/50\n",
            "1875/1875 [==============================] - 8s 4ms/step - loss: 0.1974 - accuracy: 0.9242\n",
            "Epoch 14/50\n",
            "1875/1875 [==============================] - 8s 4ms/step - loss: 0.1906 - accuracy: 0.9271\n",
            "Epoch 15/50\n",
            "1875/1875 [==============================] - 7s 4ms/step - loss: 0.1813 - accuracy: 0.9302\n",
            "Epoch 16/50\n",
            "1875/1875 [==============================] - 8s 4ms/step - loss: 0.1761 - accuracy: 0.9329\n",
            "Epoch 17/50\n",
            "1875/1875 [==============================] - 7s 4ms/step - loss: 0.1739 - accuracy: 0.9343\n",
            "Epoch 18/50\n",
            "1875/1875 [==============================] - 8s 4ms/step - loss: 0.1683 - accuracy: 0.9345\n",
            "Epoch 19/50\n",
            "1875/1875 [==============================] - 8s 4ms/step - loss: 0.1619 - accuracy: 0.9373\n",
            "Epoch 20/50\n",
            "1875/1875 [==============================] - 7s 4ms/step - loss: 0.1551 - accuracy: 0.9400\n",
            "Epoch 21/50\n",
            "1875/1875 [==============================] - 8s 4ms/step - loss: 0.1524 - accuracy: 0.9419\n",
            "Epoch 22/50\n",
            "1875/1875 [==============================] - 7s 4ms/step - loss: 0.1484 - accuracy: 0.9435\n",
            "Epoch 23/50\n",
            "1875/1875 [==============================] - 8s 4ms/step - loss: 0.1417 - accuracy: 0.9452\n",
            "Epoch 24/50\n",
            "1875/1875 [==============================] - 8s 4ms/step - loss: 0.1436 - accuracy: 0.9449\n",
            "Epoch 25/50\n",
            "1875/1875 [==============================] - 7s 4ms/step - loss: 0.1369 - accuracy: 0.9472\n",
            "Epoch 26/50\n",
            "1875/1875 [==============================] - 8s 4ms/step - loss: 0.1350 - accuracy: 0.9477\n",
            "Epoch 27/50\n",
            "1875/1875 [==============================] - 8s 4ms/step - loss: 0.1293 - accuracy: 0.9495\n",
            "Epoch 28/50\n",
            "1875/1875 [==============================] - 7s 4ms/step - loss: 0.1295 - accuracy: 0.9506\n",
            "Epoch 29/50\n",
            "1875/1875 [==============================] - 8s 4ms/step - loss: 0.1226 - accuracy: 0.9526\n",
            "Epoch 30/50\n",
            "1875/1875 [==============================] - 7s 4ms/step - loss: 0.1235 - accuracy: 0.9514\n",
            "Epoch 31/50\n",
            "1875/1875 [==============================] - 8s 4ms/step - loss: 0.1201 - accuracy: 0.9535\n",
            "Epoch 32/50\n",
            "1875/1875 [==============================] - 8s 4ms/step - loss: 0.1141 - accuracy: 0.9556\n",
            "Epoch 33/50\n",
            "1875/1875 [==============================] - 7s 4ms/step - loss: 0.1151 - accuracy: 0.9555\n",
            "Epoch 34/50\n",
            "1875/1875 [==============================] - 8s 4ms/step - loss: 0.1091 - accuracy: 0.9575\n",
            "Epoch 35/50\n",
            "1875/1875 [==============================] - 8s 4ms/step - loss: 0.1094 - accuracy: 0.9581\n",
            "Epoch 36/50\n",
            "1875/1875 [==============================] - 8s 4ms/step - loss: 0.1080 - accuracy: 0.9582\n",
            "Epoch 37/50\n",
            "1875/1875 [==============================] - 9s 5ms/step - loss: 0.1043 - accuracy: 0.9605\n",
            "Epoch 38/50\n",
            "1875/1875 [==============================] - 7s 4ms/step - loss: 0.1072 - accuracy: 0.9591\n",
            "Epoch 39/50\n",
            "1875/1875 [==============================] - 8s 4ms/step - loss: 0.0983 - accuracy: 0.9624\n",
            "Epoch 40/50\n",
            "1875/1875 [==============================] - 7s 4ms/step - loss: 0.0987 - accuracy: 0.9615\n",
            "Epoch 41/50\n",
            "1875/1875 [==============================] - 8s 4ms/step - loss: 0.0954 - accuracy: 0.9628\n",
            "Epoch 42/50\n",
            "1875/1875 [==============================] - 8s 4ms/step - loss: 0.0929 - accuracy: 0.9639\n",
            "Epoch 43/50\n",
            "1875/1875 [==============================] - 7s 4ms/step - loss: 0.0964 - accuracy: 0.9642\n",
            "Epoch 44/50\n",
            "1875/1875 [==============================] - 8s 4ms/step - loss: 0.0901 - accuracy: 0.9663\n",
            "Epoch 45/50\n",
            "1875/1875 [==============================] - 8s 4ms/step - loss: 0.0893 - accuracy: 0.9648\n",
            "Epoch 46/50\n",
            "1875/1875 [==============================] - 8s 4ms/step - loss: 0.0922 - accuracy: 0.9654\n",
            "Epoch 47/50\n",
            "1875/1875 [==============================] - 8s 4ms/step - loss: 0.0887 - accuracy: 0.9664\n",
            "Epoch 48/50\n",
            "1875/1875 [==============================] - 7s 4ms/step - loss: 0.0897 - accuracy: 0.9663\n",
            "Epoch 49/50\n",
            "1875/1875 [==============================] - 8s 4ms/step - loss: 0.0839 - accuracy: 0.9679\n",
            "Epoch 50/50\n",
            "1875/1875 [==============================] - 8s 4ms/step - loss: 0.0865 - accuracy: 0.9672\n"
          ]
        },
        {
          "output_type": "execute_result",
          "data": {
            "text/plain": [
              "<keras.src.callbacks.History at 0x7a6af0766b30>"
            ]
          },
          "metadata": {},
          "execution_count": 75
        }
      ]
    },
    {
      "cell_type": "code",
      "source": [
        "model_1.evaluate(X_test_scaled)"
      ],
      "metadata": {
        "colab": {
          "base_uri": "https://localhost:8080/"
        },
        "id": "ahCovNquCXeB",
        "outputId": "67cc7b96-4096-49c3-feea-e72819371368"
      },
      "execution_count": null,
      "outputs": [
        {
          "output_type": "stream",
          "name": "stdout",
          "text": [
            "313/313 [==============================] - 1s 2ms/step - loss: 0.0000e+00 - accuracy: 0.0000e+00\n"
          ]
        },
        {
          "output_type": "execute_result",
          "data": {
            "text/plain": [
              "[0.0, 0.0]"
            ]
          },
          "metadata": {},
          "execution_count": 87
        }
      ]
    },
    {
      "cell_type": "code",
      "source": [
        "np.argmax(model_1.predict(X_test_scaled)[8])"
      ],
      "metadata": {
        "colab": {
          "base_uri": "https://localhost:8080/"
        },
        "id": "6Tph9o_S-vGP",
        "outputId": "f8d8ed81-280b-44a5-a85f-217571515590"
      },
      "execution_count": null,
      "outputs": [
        {
          "output_type": "stream",
          "name": "stdout",
          "text": [
            "313/313 [==============================] - 1s 3ms/step\n"
          ]
        },
        {
          "output_type": "execute_result",
          "data": {
            "text/plain": [
              "5"
            ]
          },
          "metadata": {},
          "execution_count": 92
        }
      ]
    },
    {
      "cell_type": "code",
      "source": [
        "class_names[np.argmax(model_1.predict(X_test_scaled)[8])]"
      ],
      "metadata": {
        "colab": {
          "base_uri": "https://localhost:8080/",
          "height": 55
        },
        "id": "y0DJuLTOAaMJ",
        "outputId": "33fc02b9-3cef-44d8-c9a4-ed489586b404"
      },
      "execution_count": null,
      "outputs": [
        {
          "output_type": "stream",
          "name": "stdout",
          "text": [
            "313/313 [==============================] - 1s 3ms/step\n"
          ]
        },
        {
          "output_type": "execute_result",
          "data": {
            "text/plain": [
              "'Sandal'"
            ],
            "application/vnd.google.colaboratory.intrinsic+json": {
              "type": "string"
            }
          },
          "metadata": {},
          "execution_count": 93
        }
      ]
    },
    {
      "cell_type": "code",
      "source": [
        "class_names[y_test[8]]"
      ],
      "metadata": {
        "colab": {
          "base_uri": "https://localhost:8080/",
          "height": 36
        },
        "id": "gitr1FF7AacE",
        "outputId": "6aeaf12d-2ba3-40eb-bd00-fe21395116df"
      },
      "execution_count": null,
      "outputs": [
        {
          "output_type": "execute_result",
          "data": {
            "text/plain": [
              "'Sandal'"
            ],
            "application/vnd.google.colaboratory.intrinsic+json": {
              "type": "string"
            }
          },
          "metadata": {},
          "execution_count": 94
        }
      ]
    }
  ]
}